{
  "cells": [
    {
      "cell_type": "markdown",
      "id": "cda1ba95",
      "metadata": {
        "id": "cda1ba95"
      },
      "source": [
        "# Exam on Artificial Neural Networks (ANN)\n",
        "\n",
        "Welcome the Artificial Neural Networks (ANN) practical exam. In this exam, you will work on a classification task to predict the outcome of incidents involving buses. You are provided with a dataset that records breakdowns and delays in bus operations. Your task is to build, train, and evaluate an ANN model.\n",
        "\n",
        "---\n",
        "\n",
        "## Dataset Overview\n",
        "\n",
        "### **Dataset:**\n",
        "* Just run the command under the `Load Data` section to get the data downloaded and unzipped or you can access it [here](https://drive.google.com/file/d/1Flvj3qDkV2rPw7GGi5zOR-WGJgEBtRk-/view?usp=sharing)\n",
        "\n",
        "### **Dataset Name:** Bus Breakdown and Delays\n",
        "\n",
        "### **Description:**  \n",
        "The dataset contains records of incidents involving buses that were either running late or experienced a breakdown. Your task is to predict whether the bus was delayed or had a breakdown based on the features provided.\n",
        "\n",
        "### **Features:**\n",
        "The dataset contains the following columns:\n",
        "\n",
        "- `School_Year`\n",
        "- `Busbreakdown_ID`\n",
        "- `Run_Type`\n",
        "- `Bus_No`\n",
        "- `Route_Number`\n",
        "- `Reason`\n",
        "- `Schools_Serviced`\n",
        "- `Occurred_On`\n",
        "- `Created_On`\n",
        "- `Boro`\n",
        "- `Bus_Company_Name`\n",
        "- `How_Long_Delayed`\n",
        "- `Number_Of_Students_On_The_Bus`\n",
        "- `Has_Contractor_Notified_Schools`\n",
        "- `Has_Contractor_Notified_Parents`\n",
        "- `Have_You_Alerted_OPT`\n",
        "- `Informed_On`\n",
        "- `Incident_Number`\n",
        "- `Last_Updated_On`\n",
        "- `Breakdown_or_Running_Late` (Target Column)\n",
        "- `School_Age_or_PreK`"
      ]
    },
    {
      "cell_type": "markdown",
      "id": "4c2b014b",
      "metadata": {
        "id": "4c2b014b"
      },
      "source": [
        "## Load Data"
      ]
    },
    {
      "cell_type": "code",
      "execution_count": 1,
      "id": "98ad02f5",
      "metadata": {
        "colab": {
          "base_uri": "https://localhost:8080/"
        },
        "id": "98ad02f5",
        "outputId": "d2b8480b-e900-40a9-e5b7-60380a1ad199"
      },
      "outputs": [
        {
          "name": "stdout",
          "output_type": "stream",
          "text": [
            "Requirement already satisfied: gdown in /opt/anaconda3/lib/python3.11/site-packages (5.2.0)\n",
            "Requirement already satisfied: beautifulsoup4 in /opt/anaconda3/lib/python3.11/site-packages (from gdown) (4.12.2)\n",
            "Requirement already satisfied: filelock in /opt/anaconda3/lib/python3.11/site-packages (from gdown) (3.13.1)\n",
            "Requirement already satisfied: requests[socks] in /opt/anaconda3/lib/python3.11/site-packages (from gdown) (2.31.0)\n",
            "Requirement already satisfied: tqdm in /opt/anaconda3/lib/python3.11/site-packages (from gdown) (4.65.0)\n",
            "Requirement already satisfied: soupsieve>1.2 in /opt/anaconda3/lib/python3.11/site-packages (from beautifulsoup4->gdown) (2.5)\n",
            "Requirement already satisfied: charset-normalizer<4,>=2 in /opt/anaconda3/lib/python3.11/site-packages (from requests[socks]->gdown) (2.0.4)\n",
            "Requirement already satisfied: idna<4,>=2.5 in /opt/anaconda3/lib/python3.11/site-packages (from requests[socks]->gdown) (3.4)\n",
            "Requirement already satisfied: urllib3<3,>=1.21.1 in /opt/anaconda3/lib/python3.11/site-packages (from requests[socks]->gdown) (2.0.7)\n",
            "Requirement already satisfied: certifi>=2017.4.17 in /opt/anaconda3/lib/python3.11/site-packages (from requests[socks]->gdown) (2024.7.4)\n",
            "Requirement already satisfied: PySocks!=1.5.7,>=1.5.6 in /opt/anaconda3/lib/python3.11/site-packages (from requests[socks]->gdown) (1.7.1)\n",
            "/opt/anaconda3/lib/python3.11/site-packages/gdown/__main__.py:140: FutureWarning: Option `--id` was deprecated in version 4.3.1 and will be removed in 5.0. You don't need to pass it anymore to use a file ID.\n",
            "  warnings.warn(\n",
            "Downloading...\n",
            "From: https://drive.google.com/uc?id=1Flvj3qDkV2rPw7GGi5zOR-WGJgEBtRk-\n",
            "To: /Users/abd/Downloads/Bus_Breakdown_and_Delays.csv\n",
            "100%|██████████████████████████████████████| 34.4M/34.4M [00:01<00:00, 19.6MB/s]\n"
          ]
        }
      ],
      "source": [
        "#https://drive.google.com/file/d/1Flvj3qDkV2rPw7GGi5zOR-WGJgEBtRk-/view?usp=sharing\n",
        "!pip install gdown\n",
        "!gdown --id 1Flvj3qDkV2rPw7GGi5zOR-WGJgEBtRk-"
      ]
    },
    {
      "cell_type": "code",
      "execution_count": 103,
      "id": "JzPGICnn5G9Q",
      "metadata": {
        "id": "JzPGICnn5G9Q"
      },
      "outputs": [],
      "source": [
        "df = pd.read_csv('/Users/abd/Downloads/Bus_Breakdown_and_Delays.csv')"
      ]
    },
    {
      "cell_type": "markdown",
      "id": "3e39620c",
      "metadata": {
        "id": "3e39620c"
      },
      "source": [
        "## Importing Libraries"
      ]
    },
    {
      "cell_type": "code",
      "execution_count": 61,
      "id": "62381953",
      "metadata": {
        "id": "62381953"
      },
      "outputs": [],
      "source": [
        "import pandas as pd\n",
        "import numpy as np\n",
        "from sklearn.model_selection import train_test_split\n",
        "from tensorflow.keras.models import Sequential\n",
        "from tensorflow.keras.layers import Dense\n",
        "from tensorflow.keras.optimizers import Adam\n",
        "from sklearn.preprocessing import OneHotEncoder, LabelEncoder\n",
        "import matplotlib.pyplot as plt\n",
        "import seaborn as sns\n",
        "from sklearn.metrics import accuracy_score, precision_score, recall_score, f1_score, confusion_matrix\n",
        "from keras.metrics import Precision, Recall\n",
        "from sklearn.preprocessing import StandardScaler"
      ]
    },
    {
      "cell_type": "markdown",
      "id": "71ccd4e2",
      "metadata": {
        "id": "71ccd4e2"
      },
      "source": [
        "## Exploratory Data Analysis (EDA)\n",
        "This could include:\n",
        "* **Inspect the dataset**\n",
        "\n",
        "* **Dataset structure**\n",
        "\n",
        "* **Summary statistics**\n",
        "\n",
        "* **Check for missing values**\n",
        "\n",
        "* **Distribution of features**\n",
        "\n",
        "* **Categorical feature analysis**\n",
        "\n",
        "* **Correlation matrix**\n",
        "\n",
        "* **Outlier detection**\n",
        "\n",
        "And add more as needed!"
      ]
    },
    {
      "cell_type": "code",
      "execution_count": 104,
      "id": "0b800b0c",
      "metadata": {
        "colab": {
          "base_uri": "https://localhost:8080/"
        },
        "id": "0b800b0c",
        "outputId": "9c0b91dc-69b5-44e4-d699-13f25413b09d"
      },
      "outputs": [
        {
          "name": "stdout",
          "output_type": "stream",
          "text": [
            "<class 'pandas.core.frame.DataFrame'>\n",
            "RangeIndex: 147972 entries, 0 to 147971\n",
            "Data columns (total 21 columns):\n",
            " #   Column                           Non-Null Count   Dtype \n",
            "---  ------                           --------------   ----- \n",
            " 0   School_Year                      147972 non-null  object\n",
            " 1   Busbreakdown_ID                  147972 non-null  int64 \n",
            " 2   Run_Type                         147883 non-null  object\n",
            " 3   Bus_No                           147972 non-null  object\n",
            " 4   Route_Number                     147884 non-null  object\n",
            " 5   Reason                           147870 non-null  object\n",
            " 6   Schools_Serviced                 147972 non-null  object\n",
            " 7   Occurred_On                      147972 non-null  object\n",
            " 8   Created_On                       147972 non-null  object\n",
            " 9   Boro                             141654 non-null  object\n",
            " 10  Bus_Company_Name                 147972 non-null  object\n",
            " 11  How_Long_Delayed                 126342 non-null  object\n",
            " 12  Number_Of_Students_On_The_Bus    147972 non-null  int64 \n",
            " 13  Has_Contractor_Notified_Schools  147972 non-null  object\n",
            " 14  Has_Contractor_Notified_Parents  147972 non-null  object\n",
            " 15  Have_You_Alerted_OPT             147972 non-null  object\n",
            " 16  Informed_On                      147972 non-null  object\n",
            " 17  Incident_Number                  5632 non-null    object\n",
            " 18  Last_Updated_On                  147972 non-null  object\n",
            " 19  Breakdown_or_Running_Late        147972 non-null  object\n",
            " 20  School_Age_or_PreK               147972 non-null  object\n",
            "dtypes: int64(2), object(19)\n",
            "memory usage: 23.7+ MB\n"
          ]
        },
        {
          "data": {
            "text/plain": [
              "(None,\n",
              "        Busbreakdown_ID  Number_Of_Students_On_The_Bus\n",
              " count     1.479720e+05                  147972.000000\n",
              " mean      1.287779e+06                       3.590071\n",
              " std       4.324338e+04                      55.365859\n",
              " min       1.212681e+06                       0.000000\n",
              " 25%       1.250438e+06                       0.000000\n",
              " 50%       1.287844e+06                       0.000000\n",
              " 75%       1.325191e+06                       4.000000\n",
              " max       1.362605e+06                    9007.000000,\n",
              "   School_Year  Busbreakdown_ID  Run_Type Bus_No Route_Number         Reason  \\\n",
              " 0   2015-2016          1224901  Pre-K/EI    811            1          Other   \n",
              " 1   2015-2016          1225098  Pre-K/EI   9302            1  Heavy Traffic   \n",
              " 2   2015-2016          1215800  Pre-K/EI    358            2  Heavy Traffic   \n",
              " 3   2015-2016          1215511  Pre-K/EI    331            2          Other   \n",
              " 4   2015-2016          1215828  Pre-K/EI    332            2          Other   \n",
              " \n",
              "   Schools_Serviced             Occurred_On              Created_On   Boro  \\\n",
              " 0             C353  10/26/2015 08:30:00 AM  10/26/2015 08:40:00 AM  Bronx   \n",
              " 1             C814  10/27/2015 07:10:00 AM  10/27/2015 07:11:00 AM  Bronx   \n",
              " 2             C195  09/18/2015 07:36:00 AM  09/18/2015 07:38:00 AM  Bronx   \n",
              " 3             C178  09/17/2015 08:08:00 AM  09/17/2015 08:12:00 AM  Bronx   \n",
              " 4             S176  09/18/2015 07:39:00 AM  09/18/2015 07:45:00 AM  Bronx   \n",
              " \n",
              "    ... How_Long_Delayed Number_Of_Students_On_The_Bus  \\\n",
              " 0  ...        10MINUTES                             5   \n",
              " 1  ...       25 MINUTES                             3   \n",
              " 2  ...       15 MINUTES                            12   \n",
              " 3  ...       10 minutes                            11   \n",
              " 4  ...        10MINUTES                            12   \n",
              " \n",
              "    Has_Contractor_Notified_Schools Has_Contractor_Notified_Parents  \\\n",
              " 0                              Yes                             Yes   \n",
              " 1                              Yes                             Yes   \n",
              " 2                              Yes                             Yes   \n",
              " 3                              Yes                             Yes   \n",
              " 4                              Yes                             Yes   \n",
              " \n",
              "   Have_You_Alerted_OPT             Informed_On Incident_Number  \\\n",
              " 0                   No  10/26/2015 08:40:00 AM             NaN   \n",
              " 1                   No  10/27/2015 07:11:00 AM             NaN   \n",
              " 2                  Yes  09/18/2015 07:38:00 AM             NaN   \n",
              " 3                  Yes  09/17/2015 08:12:00 AM             NaN   \n",
              " 4                   No  09/18/2015 07:45:00 AM             NaN   \n",
              " \n",
              "           Last_Updated_On Breakdown_or_Running_Late School_Age_or_PreK  \n",
              " 0  10/26/2015 08:40:39 AM              Running Late              Pre-K  \n",
              " 1  10/27/2015 07:11:22 AM              Running Late              Pre-K  \n",
              " 2  09/18/2015 07:38:44 AM              Running Late              Pre-K  \n",
              " 3  09/17/2015 08:12:08 AM              Running Late              Pre-K  \n",
              " 4  09/18/2015 07:56:40 AM              Running Late              Pre-K  \n",
              " \n",
              " [5 rows x 21 columns],\n",
              " School_Year                             0\n",
              " Busbreakdown_ID                         0\n",
              " Run_Type                               89\n",
              " Bus_No                                  0\n",
              " Route_Number                           88\n",
              " Reason                                102\n",
              " Schools_Serviced                        0\n",
              " Occurred_On                             0\n",
              " Created_On                              0\n",
              " Boro                                 6318\n",
              " Bus_Company_Name                        0\n",
              " How_Long_Delayed                    21630\n",
              " Number_Of_Students_On_The_Bus           0\n",
              " Has_Contractor_Notified_Schools         0\n",
              " Has_Contractor_Notified_Parents         0\n",
              " Have_You_Alerted_OPT                    0\n",
              " Informed_On                             0\n",
              " Incident_Number                    142340\n",
              " Last_Updated_On                         0\n",
              " Breakdown_or_Running_Late               0\n",
              " School_Age_or_PreK                      0\n",
              " dtype: int64)"
            ]
          },
          "execution_count": 104,
          "metadata": {},
          "output_type": "execute_result"
        }
      ],
      "source": [
        "df.info(), df.describe(), df.head() , df.isna().sum()"
      ]
    },
    {
      "cell_type": "code",
      "execution_count": 105,
      "id": "4JvC3ri97QJR",
      "metadata": {
        "colab": {
          "base_uri": "https://localhost:8080/"
        },
        "id": "4JvC3ri97QJR",
        "outputId": "efa4e677-a240-4319-e1d7-a8fe93c472a0"
      },
      "outputs": [
        {
          "data": {
            "text/plain": [
              "Index(['School_Year', 'Busbreakdown_ID', 'Run_Type', 'Bus_No', 'Route_Number',\n",
              "       'Reason', 'Schools_Serviced', 'Occurred_On', 'Created_On', 'Boro',\n",
              "       'Bus_Company_Name', 'How_Long_Delayed', 'Number_Of_Students_On_The_Bus',\n",
              "       'Has_Contractor_Notified_Schools', 'Has_Contractor_Notified_Parents',\n",
              "       'Have_You_Alerted_OPT', 'Informed_On', 'Incident_Number',\n",
              "       'Last_Updated_On', 'Breakdown_or_Running_Late', 'School_Age_or_PreK'],\n",
              "      dtype='object')"
            ]
          },
          "execution_count": 105,
          "metadata": {},
          "output_type": "execute_result"
        }
      ],
      "source": [
        "df.columns"
      ]
    },
    {
      "cell_type": "markdown",
      "id": "u09GFCD6_kVi",
      "metadata": {
        "id": "u09GFCD6_kVi"
      },
      "source": [
        "## Data Preprocessing\n",
        "This could include:\n",
        "\n",
        "* **Handle Missing Values**\n",
        "    * Impute missing values or drop them.\n",
        "\n",
        "* **Encode Categorical Variables**\n",
        "    * One-hot encoding\n",
        "    * Label encoding\n",
        "\n",
        "* **Scale and Normalize Data**\n",
        "    * Standardization (Z-score)\n",
        "    * Min-Max scaling\n",
        "\n",
        "* **Feature Engineering**\n",
        "    * Create new features\n",
        "    * Feature selection\n",
        "\n",
        "* **Handle Imbalanced Data**\n",
        "    * Oversampling\n",
        "    * Undersampling\n",
        "\n",
        "* **Handle Outliers**\n",
        "    * Remove outliers\n",
        "    * Transform outliers\n",
        "\n",
        "* **Remove Duplicates**\n",
        "    * Remove redundant or duplicate data\n",
        "\n",
        "\n",
        "And add more as needed!\n",
        "\n",
        "Please treat these as suggestions. Feel free to use your judgment for the rest."
      ]
    },
    {
      "cell_type": "code",
      "execution_count": 106,
      "id": "-6F_OHeh5DIo",
      "metadata": {
        "colab": {
          "base_uri": "https://localhost:8080/",
          "height": 424
        },
        "id": "-6F_OHeh5DIo",
        "outputId": "135b68d9-e922-440d-898b-ee3e35a4176e"
      },
      "outputs": [
        {
          "data": {
            "text/plain": [
              "Run_Type\n",
              "Special Ed AM Run          85990\n",
              "Pre-K/EI                   20951\n",
              "Special Ed PM Run          17672\n",
              "General Ed AM Run          17182\n",
              "General Ed PM Run           4541\n",
              "Special Ed Field Trip        628\n",
              "General Ed Field Trip        570\n",
              "Project Read PM Run          300\n",
              "Project Read AM Run           47\n",
              "Project Read Field Trip        2\n",
              "Name: count, dtype: int64"
            ]
          },
          "execution_count": 106,
          "metadata": {},
          "output_type": "execute_result"
        }
      ],
      "source": [
        "df['Run_Type'].value_counts()"
      ]
    },
    {
      "cell_type": "code",
      "execution_count": 107,
      "id": "bT35qWVW7izN",
      "metadata": {
        "colab": {
          "base_uri": "https://localhost:8080/",
          "height": 114
        },
        "id": "bT35qWVW7izN",
        "outputId": "ea2262d0-3f48-4dff-8eec-7c19fa7a9a66"
      },
      "outputs": [
        {
          "data": {
            "text/plain": [
              "0    Special Ed AM Run\n",
              "Name: Run_Type, dtype: object"
            ]
          },
          "execution_count": 107,
          "metadata": {},
          "output_type": "execute_result"
        }
      ],
      "source": [
        "df['Run_Type'].mode()"
      ]
    },
    {
      "cell_type": "code",
      "execution_count": 108,
      "id": "G-aW-rS77YCJ",
      "metadata": {
        "id": "G-aW-rS77YCJ"
      },
      "outputs": [],
      "source": [
        "df['Run_Type'] = df['Run_Type'].fillna(df['Run_Type'].mode()[0])"
      ]
    },
    {
      "cell_type": "code",
      "execution_count": 109,
      "id": "HnMyKkbg6cgb",
      "metadata": {
        "colab": {
          "base_uri": "https://localhost:8080/",
          "height": 484
        },
        "id": "HnMyKkbg6cgb",
        "outputId": "f97fa13b-6180-4339-cff4-5786c1490b9e"
      },
      "outputs": [
        {
          "data": {
            "text/plain": [
              "Route_Number\n",
              "1         2569\n",
              "2         2217\n",
              "3         1904\n",
              "5         1740\n",
              "4         1093\n",
              "          ... \n",
              "26Q7MD       1\n",
              "M688         1\n",
              "JC-1         1\n",
              "W656         1\n",
              "1409B        1\n",
              "Name: count, Length: 11283, dtype: int64"
            ]
          },
          "execution_count": 109,
          "metadata": {},
          "output_type": "execute_result"
        }
      ],
      "source": [
        "df['Route_Number'].value_counts()"
      ]
    },
    {
      "cell_type": "code",
      "execution_count": 110,
      "id": "LVpCOLnL7sI7",
      "metadata": {
        "id": "LVpCOLnL7sI7"
      },
      "outputs": [],
      "source": [
        "df.dropna(subset=['Route_Number'], inplace=True)"
      ]
    },
    {
      "cell_type": "code",
      "execution_count": 111,
      "id": "dShgsptC6kku",
      "metadata": {
        "colab": {
          "base_uri": "https://localhost:8080/",
          "height": 424
        },
        "id": "dShgsptC6kku",
        "outputId": "96706eb0-aaf6-4a74-cc23-6358a3087419"
      },
      "outputs": [
        {
          "data": {
            "text/plain": [
              "Reason\n",
              "Heavy Traffic                  87372\n",
              "Other                          21654\n",
              "Mechanical Problem             13902\n",
              "Won`t Start                     7270\n",
              "Flat Tire                       4579\n",
              "Weather Conditions              4527\n",
              "Late return from Field Trip     3464\n",
              "Problem Run                     2204\n",
              "Delayed by School               1445\n",
              "Accident                        1365\n",
              "Name: count, dtype: int64"
            ]
          },
          "execution_count": 111,
          "metadata": {},
          "output_type": "execute_result"
        }
      ],
      "source": [
        "df['Reason'].value_counts()"
      ]
    },
    {
      "cell_type": "code",
      "execution_count": 112,
      "id": "-e0XRTNc8mHD",
      "metadata": {
        "id": "-e0XRTNc8mHD"
      },
      "outputs": [],
      "source": [
        "df['Reason'] = df['Reason'].fillna(df['Reason'].mode()[0])"
      ]
    },
    {
      "cell_type": "code",
      "execution_count": 113,
      "id": "aO8OVUXS6pwp",
      "metadata": {
        "colab": {
          "base_uri": "https://localhost:8080/",
          "height": 455
        },
        "id": "aO8OVUXS6pwp",
        "outputId": "a71a0624-826c-4ed7-c9ed-30f42bd2bf6a"
      },
      "outputs": [
        {
          "data": {
            "text/plain": [
              "Boro\n",
              "Bronx              40973\n",
              "Brooklyn           35618\n",
              "Manhattan          28658\n",
              "Queens             21150\n",
              "Staten Island       6920\n",
              "Westchester         4529\n",
              "Nassau County       1968\n",
              "New Jersey           887\n",
              "Rockland County      491\n",
              "All Boroughs         275\n",
              "Connecticut          102\n",
              "Name: count, dtype: int64"
            ]
          },
          "execution_count": 113,
          "metadata": {},
          "output_type": "execute_result"
        }
      ],
      "source": [
        "df['Boro'].value_counts()"
      ]
    },
    {
      "cell_type": "code",
      "execution_count": 114,
      "id": "9_THEwFc848a",
      "metadata": {
        "id": "9_THEwFc848a"
      },
      "outputs": [],
      "source": [
        "df.dropna(subset=['Boro'], inplace=True)"
      ]
    },
    {
      "cell_type": "code",
      "execution_count": 115,
      "id": "c5bVNf6y6qdp",
      "metadata": {
        "colab": {
          "base_uri": "https://localhost:8080/",
          "height": 484
        },
        "id": "c5bVNf6y6qdp",
        "outputId": "036996d8-9a64-49b3-bd39-6c2b9af104fb"
      },
      "outputs": [
        {
          "data": {
            "text/plain": [
              "How_Long_Delayed\n",
              "20 MINS       5640\n",
              "30 MINS       4523\n",
              "30 minutes    3647\n",
              "15 mins       3421\n",
              "30MINS        3157\n",
              "              ... \n",
              "602 MIN          1\n",
              "15 Mins.         1\n",
              "15-30 Mins       1\n",
              "ONE HOUR         1\n",
              "45 MINIUTE       1\n",
              "Name: count, Length: 1831, dtype: int64"
            ]
          },
          "execution_count": 115,
          "metadata": {},
          "output_type": "execute_result"
        }
      ],
      "source": [
        "df['How_Long_Delayed'].value_counts()"
      ]
    },
    {
      "cell_type": "code",
      "execution_count": 116,
      "id": "PRDRbqzy9tkf",
      "metadata": {
        "id": "PRDRbqzy9tkf"
      },
      "outputs": [],
      "source": [
        "df.dropna(subset=['How_Long_Delayed'], inplace=True)"
      ]
    },
    {
      "cell_type": "code",
      "execution_count": 117,
      "id": "6oUjSaiz6rJ5",
      "metadata": {
        "colab": {
          "base_uri": "https://localhost:8080/",
          "height": 484
        },
        "id": "6oUjSaiz6rJ5",
        "outputId": "55a3b5d7-8793-4ac2-d57d-a617d80770b1"
      },
      "outputs": [
        {
          "data": {
            "text/plain": [
              "Incident_Number\n",
              "x           107\n",
              "X            77\n",
              "e            65\n",
              "90276267     24\n",
              "90278844     16\n",
              "           ... \n",
              "90033161      1\n",
              "90033126      1\n",
              "90033160      1\n",
              "90033165      1\n",
              "90323827      1\n",
              "Name: count, Length: 4090, dtype: int64"
            ]
          },
          "execution_count": 117,
          "metadata": {},
          "output_type": "execute_result"
        }
      ],
      "source": [
        "df['Incident_Number'].value_counts()"
      ]
    },
    {
      "cell_type": "code",
      "execution_count": 118,
      "id": "kgXCf4Tg9yPw",
      "metadata": {
        "id": "kgXCf4Tg9yPw"
      },
      "outputs": [],
      "source": [
        "df = df.drop(['Incident_Number'], axis=1)"
      ]
    },
    {
      "cell_type": "code",
      "execution_count": 119,
      "id": "XtbLcv6KAfUg",
      "metadata": {
        "id": "XtbLcv6KAfUg"
      },
      "outputs": [],
      "source": [
        "df = df.drop(['Busbreakdown_ID'], axis=1)"
      ]
    },
    {
      "cell_type": "code",
      "execution_count": 120,
      "id": "DuYz1dEQBEx7",
      "metadata": {
        "id": "DuYz1dEQBEx7"
      },
      "outputs": [],
      "source": [
        "df = df.drop(['Bus_No'], axis=1)"
      ]
    },
    {
      "cell_type": "code",
      "execution_count": 121,
      "id": "qD9oQtHn-LJR",
      "metadata": {
        "colab": {
          "base_uri": "https://localhost:8080/",
          "height": 641
        },
        "id": "qD9oQtHn-LJR",
        "outputId": "27d8ed7c-c6fc-42e4-9f2b-84bc9e626d5e"
      },
      "outputs": [
        {
          "data": {
            "text/plain": [
              "School_Year                        0\n",
              "Run_Type                           0\n",
              "Route_Number                       0\n",
              "Reason                             0\n",
              "Schools_Serviced                   0\n",
              "Occurred_On                        0\n",
              "Created_On                         0\n",
              "Boro                               0\n",
              "Bus_Company_Name                   0\n",
              "How_Long_Delayed                   0\n",
              "Number_Of_Students_On_The_Bus      0\n",
              "Has_Contractor_Notified_Schools    0\n",
              "Has_Contractor_Notified_Parents    0\n",
              "Have_You_Alerted_OPT               0\n",
              "Informed_On                        0\n",
              "Last_Updated_On                    0\n",
              "Breakdown_or_Running_Late          0\n",
              "School_Age_or_PreK                 0\n",
              "dtype: int64"
            ]
          },
          "execution_count": 121,
          "metadata": {},
          "output_type": "execute_result"
        }
      ],
      "source": [
        "df.isna().sum()"
      ]
    },
    {
      "cell_type": "code",
      "execution_count": 122,
      "id": "34372785",
      "metadata": {},
      "outputs": [
        {
          "name": "stdout",
          "output_type": "stream",
          "text": [
            "<class 'pandas.core.frame.DataFrame'>\n",
            "Index: 120710 entries, 0 to 147971\n",
            "Data columns (total 18 columns):\n",
            " #   Column                           Non-Null Count   Dtype \n",
            "---  ------                           --------------   ----- \n",
            " 0   School_Year                      120710 non-null  object\n",
            " 1   Run_Type                         120710 non-null  object\n",
            " 2   Route_Number                     120710 non-null  object\n",
            " 3   Reason                           120710 non-null  object\n",
            " 4   Schools_Serviced                 120710 non-null  object\n",
            " 5   Occurred_On                      120710 non-null  object\n",
            " 6   Created_On                       120710 non-null  object\n",
            " 7   Boro                             120710 non-null  object\n",
            " 8   Bus_Company_Name                 120710 non-null  object\n",
            " 9   How_Long_Delayed                 120710 non-null  object\n",
            " 10  Number_Of_Students_On_The_Bus    120710 non-null  int64 \n",
            " 11  Has_Contractor_Notified_Schools  120710 non-null  object\n",
            " 12  Has_Contractor_Notified_Parents  120710 non-null  object\n",
            " 13  Have_You_Alerted_OPT             120710 non-null  object\n",
            " 14  Informed_On                      120710 non-null  object\n",
            " 15  Last_Updated_On                  120710 non-null  object\n",
            " 16  Breakdown_or_Running_Late        120710 non-null  object\n",
            " 17  School_Age_or_PreK               120710 non-null  object\n",
            "dtypes: int64(1), object(17)\n",
            "memory usage: 17.5+ MB\n"
          ]
        }
      ],
      "source": [
        "df.info()"
      ]
    },
    {
      "cell_type": "code",
      "execution_count": 123,
      "id": "1793ea0c",
      "metadata": {},
      "outputs": [],
      "source": [
        "df['Bus_Company_Name'].value_counts()\n",
        "df = df.drop(['Bus_Company_Name'], axis=1)"
      ]
    },
    {
      "cell_type": "code",
      "execution_count": 124,
      "id": "738cc3d4",
      "metadata": {},
      "outputs": [],
      "source": [
        "date_col = ['Last_Updated_On','Informed_On','Created_On','Occurred_On']\n",
        "df = df.drop(date_col,axis=1)"
      ]
    },
    {
      "cell_type": "code",
      "execution_count": 125,
      "id": "d6d97569",
      "metadata": {},
      "outputs": [],
      "source": [
        "df['Schools_Serviced'].value_counts()\n",
        "df = df.drop(['Schools_Serviced'], axis=1)"
      ]
    },
    {
      "cell_type": "code",
      "execution_count": 126,
      "id": "fb55e757",
      "metadata": {},
      "outputs": [
        {
          "name": "stdout",
          "output_type": "stream",
          "text": [
            "<class 'pandas.core.frame.DataFrame'>\n",
            "Index: 120710 entries, 0 to 147971\n",
            "Data columns (total 12 columns):\n",
            " #   Column                           Non-Null Count   Dtype \n",
            "---  ------                           --------------   ----- \n",
            " 0   School_Year                      120710 non-null  object\n",
            " 1   Run_Type                         120710 non-null  object\n",
            " 2   Route_Number                     120710 non-null  object\n",
            " 3   Reason                           120710 non-null  object\n",
            " 4   Boro                             120710 non-null  object\n",
            " 5   How_Long_Delayed                 120710 non-null  object\n",
            " 6   Number_Of_Students_On_The_Bus    120710 non-null  int64 \n",
            " 7   Has_Contractor_Notified_Schools  120710 non-null  object\n",
            " 8   Has_Contractor_Notified_Parents  120710 non-null  object\n",
            " 9   Have_You_Alerted_OPT             120710 non-null  object\n",
            " 10  Breakdown_or_Running_Late        120710 non-null  object\n",
            " 11  School_Age_or_PreK               120710 non-null  object\n",
            "dtypes: int64(1), object(11)\n",
            "memory usage: 12.0+ MB\n"
          ]
        }
      ],
      "source": [
        "df.info()"
      ]
    },
    {
      "cell_type": "code",
      "execution_count": 127,
      "id": "84323450",
      "metadata": {},
      "outputs": [],
      "source": [
        "\n",
        "df['Route_Number'].value_counts()\n",
        "df = df.drop(['Route_Number'], axis=1)"
      ]
    },
    {
      "cell_type": "code",
      "execution_count": 128,
      "id": "acc31766",
      "metadata": {},
      "outputs": [
        {
          "data": {
            "text/plain": [
              "Reason\n",
              "Heavy Traffic                  80500\n",
              "Other                          18106\n",
              "Mechanical Problem              5721\n",
              "Weather Conditions              4127\n",
              "Late return from Field Trip     3240\n",
              "Won`t Start                     2325\n",
              "Flat Tire                       2221\n",
              "Problem Run                     2111\n",
              "Delayed by School               1274\n",
              "Accident                        1085\n",
              "Name: count, dtype: int64"
            ]
          },
          "execution_count": 128,
          "metadata": {},
          "output_type": "execute_result"
        }
      ],
      "source": [
        "df['Reason'].value_counts()"
      ]
    },
    {
      "cell_type": "code",
      "execution_count": 129,
      "id": "c7c00100",
      "metadata": {},
      "outputs": [],
      "source": [
        "df['How_Long_Delayed'].value_counts()\n",
        "df = df.drop(['How_Long_Delayed'], axis=1)"
      ]
    },
    {
      "cell_type": "code",
      "execution_count": 130,
      "id": "08856ef0",
      "metadata": {},
      "outputs": [
        {
          "data": {
            "text/html": [
              "<div>\n",
              "<style scoped>\n",
              "    .dataframe tbody tr th:only-of-type {\n",
              "        vertical-align: middle;\n",
              "    }\n",
              "\n",
              "    .dataframe tbody tr th {\n",
              "        vertical-align: top;\n",
              "    }\n",
              "\n",
              "    .dataframe thead th {\n",
              "        text-align: right;\n",
              "    }\n",
              "</style>\n",
              "<table border=\"1\" class=\"dataframe\">\n",
              "  <thead>\n",
              "    <tr style=\"text-align: right;\">\n",
              "      <th></th>\n",
              "      <th>School_Year</th>\n",
              "      <th>Run_Type</th>\n",
              "      <th>Reason</th>\n",
              "      <th>Boro</th>\n",
              "      <th>Number_Of_Students_On_The_Bus</th>\n",
              "      <th>Has_Contractor_Notified_Schools</th>\n",
              "      <th>Has_Contractor_Notified_Parents</th>\n",
              "      <th>Have_You_Alerted_OPT</th>\n",
              "      <th>Breakdown_or_Running_Late</th>\n",
              "      <th>School_Age_or_PreK</th>\n",
              "    </tr>\n",
              "  </thead>\n",
              "  <tbody>\n",
              "    <tr>\n",
              "      <th>0</th>\n",
              "      <td>2015-2016</td>\n",
              "      <td>Pre-K/EI</td>\n",
              "      <td>Other</td>\n",
              "      <td>Bronx</td>\n",
              "      <td>5</td>\n",
              "      <td>Yes</td>\n",
              "      <td>Yes</td>\n",
              "      <td>No</td>\n",
              "      <td>Running Late</td>\n",
              "      <td>Pre-K</td>\n",
              "    </tr>\n",
              "    <tr>\n",
              "      <th>1</th>\n",
              "      <td>2015-2016</td>\n",
              "      <td>Pre-K/EI</td>\n",
              "      <td>Heavy Traffic</td>\n",
              "      <td>Bronx</td>\n",
              "      <td>3</td>\n",
              "      <td>Yes</td>\n",
              "      <td>Yes</td>\n",
              "      <td>No</td>\n",
              "      <td>Running Late</td>\n",
              "      <td>Pre-K</td>\n",
              "    </tr>\n",
              "    <tr>\n",
              "      <th>2</th>\n",
              "      <td>2015-2016</td>\n",
              "      <td>Pre-K/EI</td>\n",
              "      <td>Heavy Traffic</td>\n",
              "      <td>Bronx</td>\n",
              "      <td>12</td>\n",
              "      <td>Yes</td>\n",
              "      <td>Yes</td>\n",
              "      <td>Yes</td>\n",
              "      <td>Running Late</td>\n",
              "      <td>Pre-K</td>\n",
              "    </tr>\n",
              "    <tr>\n",
              "      <th>3</th>\n",
              "      <td>2015-2016</td>\n",
              "      <td>Pre-K/EI</td>\n",
              "      <td>Other</td>\n",
              "      <td>Bronx</td>\n",
              "      <td>11</td>\n",
              "      <td>Yes</td>\n",
              "      <td>Yes</td>\n",
              "      <td>Yes</td>\n",
              "      <td>Running Late</td>\n",
              "      <td>Pre-K</td>\n",
              "    </tr>\n",
              "    <tr>\n",
              "      <th>4</th>\n",
              "      <td>2015-2016</td>\n",
              "      <td>Pre-K/EI</td>\n",
              "      <td>Other</td>\n",
              "      <td>Bronx</td>\n",
              "      <td>12</td>\n",
              "      <td>Yes</td>\n",
              "      <td>Yes</td>\n",
              "      <td>No</td>\n",
              "      <td>Running Late</td>\n",
              "      <td>Pre-K</td>\n",
              "    </tr>\n",
              "  </tbody>\n",
              "</table>\n",
              "</div>"
            ],
            "text/plain": [
              "  School_Year  Run_Type         Reason   Boro  Number_Of_Students_On_The_Bus  \\\n",
              "0   2015-2016  Pre-K/EI          Other  Bronx                              5   \n",
              "1   2015-2016  Pre-K/EI  Heavy Traffic  Bronx                              3   \n",
              "2   2015-2016  Pre-K/EI  Heavy Traffic  Bronx                             12   \n",
              "3   2015-2016  Pre-K/EI          Other  Bronx                             11   \n",
              "4   2015-2016  Pre-K/EI          Other  Bronx                             12   \n",
              "\n",
              "  Has_Contractor_Notified_Schools Has_Contractor_Notified_Parents  \\\n",
              "0                             Yes                             Yes   \n",
              "1                             Yes                             Yes   \n",
              "2                             Yes                             Yes   \n",
              "3                             Yes                             Yes   \n",
              "4                             Yes                             Yes   \n",
              "\n",
              "  Have_You_Alerted_OPT Breakdown_or_Running_Late School_Age_or_PreK  \n",
              "0                   No              Running Late              Pre-K  \n",
              "1                   No              Running Late              Pre-K  \n",
              "2                  Yes              Running Late              Pre-K  \n",
              "3                  Yes              Running Late              Pre-K  \n",
              "4                   No              Running Late              Pre-K  "
            ]
          },
          "execution_count": 130,
          "metadata": {},
          "output_type": "execute_result"
        }
      ],
      "source": [
        "df.head()"
      ]
    },
    {
      "cell_type": "code",
      "execution_count": 131,
      "id": "TLnY3R65CAN-",
      "metadata": {
        "id": "TLnY3R65CAN-"
      },
      "outputs": [],
      "source": [
        "categorical_cols = ['School_Year','Run_Type','Reason','Boro','Has_Contractor_Notified_Schools','Has_Contractor_Notified_Parents','Have_You_Alerted_OPT','School_Age_or_PreK']"
      ]
    },
    {
      "cell_type": "code",
      "execution_count": 132,
      "id": "MmtSIl2mFSgB",
      "metadata": {
        "id": "MmtSIl2mFSgB"
      },
      "outputs": [],
      "source": [
        "\n",
        "ohe_encoder = OneHotEncoder(sparse_output=False)\n",
        "\n",
        "one_hot_encoded = ohe_encoder.fit_transform(df[categorical_cols])\n",
        "\n",
        "one_hot_df = pd.DataFrame(one_hot_encoded, columns=ohe_encoder.get_feature_names_out(categorical_cols))\n",
        "\n",
        "df_encoded = pd.concat([df, one_hot_df], axis=1)\n",
        "\n",
        "\n",
        "df_encoded = df_encoded.drop(categorical_cols, axis=1)\n",
        "\n",
        "df = df_encoded"
      ]
    },
    {
      "cell_type": "code",
      "execution_count": 133,
      "id": "Dxx5YlC2AQ0F",
      "metadata": {
        "colab": {
          "base_uri": "https://localhost:8080/",
          "height": 207
        },
        "id": "Dxx5YlC2AQ0F",
        "outputId": "de3cb58b-a7dc-40bd-e83f-77860a240bf9"
      },
      "outputs": [
        {
          "data": {
            "text/plain": [
              "(   Number_Of_Students_On_The_Bus  Breakdown_or_Running_Late  \\\n",
              " 0                            5.0                          1   \n",
              " 1                            3.0                          1   \n",
              " 2                           12.0                          1   \n",
              " 3                           11.0                          1   \n",
              " 4                           12.0                          1   \n",
              " \n",
              "    School_Year_2015-2016  School_Year_2016-2017  School_Year_2017-2018  \\\n",
              " 0                    1.0                    0.0                    0.0   \n",
              " 1                    1.0                    0.0                    0.0   \n",
              " 2                    1.0                    0.0                    0.0   \n",
              " 3                    1.0                    0.0                    0.0   \n",
              " 4                    1.0                    0.0                    0.0   \n",
              " \n",
              "    Run_Type_General Ed AM Run  Run_Type_General Ed Field Trip  \\\n",
              " 0                         0.0                             0.0   \n",
              " 1                         0.0                             0.0   \n",
              " 2                         0.0                             0.0   \n",
              " 3                         0.0                             0.0   \n",
              " 4                         0.0                             0.0   \n",
              " \n",
              "    Run_Type_General Ed PM Run  Run_Type_Pre-K/EI  \\\n",
              " 0                         0.0                1.0   \n",
              " 1                         0.0                1.0   \n",
              " 2                         0.0                1.0   \n",
              " 3                         0.0                1.0   \n",
              " 4                         0.0                1.0   \n",
              " \n",
              "    Run_Type_Project Read AM Run  ...  Boro_Staten Island  Boro_Westchester  \\\n",
              " 0                           0.0  ...                 0.0               0.0   \n",
              " 1                           0.0  ...                 0.0               0.0   \n",
              " 2                           0.0  ...                 0.0               0.0   \n",
              " 3                           0.0  ...                 0.0               0.0   \n",
              " 4                           0.0  ...                 0.0               0.0   \n",
              " \n",
              "    Has_Contractor_Notified_Schools_No  Has_Contractor_Notified_Schools_Yes  \\\n",
              " 0                                 0.0                                  1.0   \n",
              " 1                                 0.0                                  1.0   \n",
              " 2                                 0.0                                  1.0   \n",
              " 3                                 0.0                                  1.0   \n",
              " 4                                 0.0                                  1.0   \n",
              " \n",
              "    Has_Contractor_Notified_Parents_No  Has_Contractor_Notified_Parents_Yes  \\\n",
              " 0                                 0.0                                  1.0   \n",
              " 1                                 0.0                                  1.0   \n",
              " 2                                 0.0                                  1.0   \n",
              " 3                                 0.0                                  1.0   \n",
              " 4                                 0.0                                  1.0   \n",
              " \n",
              "    Have_You_Alerted_OPT_No  Have_You_Alerted_OPT_Yes  \\\n",
              " 0                      1.0                       0.0   \n",
              " 1                      1.0                       0.0   \n",
              " 2                      0.0                       1.0   \n",
              " 3                      0.0                       1.0   \n",
              " 4                      1.0                       0.0   \n",
              " \n",
              "    School_Age_or_PreK_Pre-K  School_Age_or_PreK_School-Age  \n",
              " 0                       1.0                            0.0  \n",
              " 1                       1.0                            0.0  \n",
              " 2                       1.0                            0.0  \n",
              " 3                       1.0                            0.0  \n",
              " 4                       1.0                            0.0  \n",
              " \n",
              " [5 rows x 44 columns],\n",
              " Breakdown_or_Running_Late\n",
              " Running Late    120699\n",
              " Breakdown           11\n",
              " Name: count, dtype: int64)"
            ]
          },
          "execution_count": 133,
          "metadata": {},
          "output_type": "execute_result"
        }
      ],
      "source": [
        "\n",
        "target_balance = df_encoded['Breakdown_or_Running_Late'].value_counts()\n",
        "\n",
        "df_encoded['Breakdown_or_Running_Late'] = df_encoded['Breakdown_or_Running_Late'].apply(lambda x: 1 if x == 'Running Late' else 0)\n",
        "\n",
        "df_encoded.head(), target_balance"
      ]
    },
    {
      "cell_type": "code",
      "execution_count": 134,
      "id": "83017bb0",
      "metadata": {},
      "outputs": [
        {
          "data": {
            "text/plain": [
              "Breakdown_or_Running_Late\n",
              "1    120699\n",
              "0     22293\n",
              "Name: count, dtype: int64"
            ]
          },
          "execution_count": 134,
          "metadata": {},
          "output_type": "execute_result"
        }
      ],
      "source": [
        "df['Breakdown_or_Running_Late'].value_counts()"
      ]
    },
    {
      "cell_type": "code",
      "execution_count": 135,
      "id": "a92c58ac",
      "metadata": {},
      "outputs": [
        {
          "data": {
            "text/plain": [
              "Number_Of_Students_On_The_Bus          22282\n",
              "Breakdown_or_Running_Late                  0\n",
              "School_Year_2015-2016                  22282\n",
              "School_Year_2016-2017                  22282\n",
              "School_Year_2017-2018                  22282\n",
              "Run_Type_General Ed AM Run             22282\n",
              "Run_Type_General Ed Field Trip         22282\n",
              "Run_Type_General Ed PM Run             22282\n",
              "Run_Type_Pre-K/EI                      22282\n",
              "Run_Type_Project Read AM Run           22282\n",
              "Run_Type_Project Read Field Trip       22282\n",
              "Run_Type_Project Read PM Run           22282\n",
              "Run_Type_Special Ed AM Run             22282\n",
              "Run_Type_Special Ed Field Trip         22282\n",
              "Run_Type_Special Ed PM Run             22282\n",
              "Reason_Accident                        22282\n",
              "Reason_Delayed by School               22282\n",
              "Reason_Flat Tire                       22282\n",
              "Reason_Heavy Traffic                   22282\n",
              "Reason_Late return from Field Trip     22282\n",
              "Reason_Mechanical Problem              22282\n",
              "Reason_Other                           22282\n",
              "Reason_Problem Run                     22282\n",
              "Reason_Weather Conditions              22282\n",
              "Reason_Won`t Start                     22282\n",
              "Boro_All Boroughs                      22282\n",
              "Boro_Bronx                             22282\n",
              "Boro_Brooklyn                          22282\n",
              "Boro_Connecticut                       22282\n",
              "Boro_Manhattan                         22282\n",
              "Boro_Nassau County                     22282\n",
              "Boro_New Jersey                        22282\n",
              "Boro_Queens                            22282\n",
              "Boro_Rockland County                   22282\n",
              "Boro_Staten Island                     22282\n",
              "Boro_Westchester                       22282\n",
              "Has_Contractor_Notified_Schools_No     22282\n",
              "Has_Contractor_Notified_Schools_Yes    22282\n",
              "Has_Contractor_Notified_Parents_No     22282\n",
              "Has_Contractor_Notified_Parents_Yes    22282\n",
              "Have_You_Alerted_OPT_No                22282\n",
              "Have_You_Alerted_OPT_Yes               22282\n",
              "School_Age_or_PreK_Pre-K               22282\n",
              "School_Age_or_PreK_School-Age          22282\n",
              "dtype: int64"
            ]
          },
          "execution_count": 135,
          "metadata": {},
          "output_type": "execute_result"
        }
      ],
      "source": [
        "df.isna().sum()"
      ]
    },
    {
      "cell_type": "code",
      "execution_count": 136,
      "id": "a4d59eea",
      "metadata": {},
      "outputs": [
        {
          "data": {
            "text/plain": [
              "Index(['Number_Of_Students_On_The_Bus', 'Breakdown_or_Running_Late',\n",
              "       'School_Year_2015-2016', 'School_Year_2016-2017',\n",
              "       'School_Year_2017-2018', 'Run_Type_General Ed AM Run',\n",
              "       'Run_Type_General Ed Field Trip', 'Run_Type_General Ed PM Run',\n",
              "       'Run_Type_Pre-K/EI', 'Run_Type_Project Read AM Run',\n",
              "       'Run_Type_Project Read Field Trip', 'Run_Type_Project Read PM Run',\n",
              "       'Run_Type_Special Ed AM Run', 'Run_Type_Special Ed Field Trip',\n",
              "       'Run_Type_Special Ed PM Run', 'Reason_Accident',\n",
              "       'Reason_Delayed by School', 'Reason_Flat Tire', 'Reason_Heavy Traffic',\n",
              "       'Reason_Late return from Field Trip', 'Reason_Mechanical Problem',\n",
              "       'Reason_Other', 'Reason_Problem Run', 'Reason_Weather Conditions',\n",
              "       'Reason_Won`t Start', 'Boro_All Boroughs', 'Boro_Bronx',\n",
              "       'Boro_Brooklyn', 'Boro_Connecticut', 'Boro_Manhattan',\n",
              "       'Boro_Nassau County', 'Boro_New Jersey', 'Boro_Queens',\n",
              "       'Boro_Rockland County', 'Boro_Staten Island', 'Boro_Westchester',\n",
              "       'Has_Contractor_Notified_Schools_No',\n",
              "       'Has_Contractor_Notified_Schools_Yes',\n",
              "       'Has_Contractor_Notified_Parents_No',\n",
              "       'Has_Contractor_Notified_Parents_Yes', 'Have_You_Alerted_OPT_No',\n",
              "       'Have_You_Alerted_OPT_Yes', 'School_Age_or_PreK_Pre-K',\n",
              "       'School_Age_or_PreK_School-Age'],\n",
              "      dtype='object')"
            ]
          },
          "execution_count": 136,
          "metadata": {},
          "output_type": "execute_result"
        }
      ],
      "source": [
        "df.columns"
      ]
    },
    {
      "cell_type": "code",
      "execution_count": 137,
      "id": "0c316f4f",
      "metadata": {},
      "outputs": [],
      "source": [
        "nan_value_drop = ['Number_Of_Students_On_The_Bus', 'Breakdown_or_Running_Late',\n",
        "       'School_Year_2015-2016', 'School_Year_2016-2017',\n",
        "       'School_Year_2017-2018', 'Run_Type_General Ed AM Run',\n",
        "       'Run_Type_General Ed Field Trip', 'Run_Type_General Ed PM Run',\n",
        "       'Run_Type_Pre-K/EI', 'Run_Type_Project Read AM Run',\n",
        "       'Run_Type_Project Read Field Trip', 'Run_Type_Project Read PM Run',\n",
        "       'Run_Type_Special Ed AM Run', 'Run_Type_Special Ed Field Trip',\n",
        "       'Run_Type_Special Ed PM Run', 'Reason_Accident',\n",
        "       'Reason_Delayed by School', 'Reason_Flat Tire', 'Reason_Heavy Traffic',\n",
        "       'Reason_Late return from Field Trip', 'Reason_Mechanical Problem',\n",
        "       'Reason_Other', 'Reason_Problem Run', 'Reason_Weather Conditions',\n",
        "       'Reason_Won`t Start', 'Boro_All Boroughs', 'Boro_Bronx',\n",
        "       'Boro_Brooklyn', 'Boro_Connecticut', 'Boro_Manhattan',\n",
        "       'Boro_Nassau County', 'Boro_New Jersey', 'Boro_Queens',\n",
        "       'Boro_Rockland County', 'Boro_Staten Island', 'Boro_Westchester',\n",
        "       'Has_Contractor_Notified_Schools_No',\n",
        "       'Has_Contractor_Notified_Schools_Yes',\n",
        "       'Has_Contractor_Notified_Parents_No',\n",
        "       'Has_Contractor_Notified_Parents_Yes', 'Have_You_Alerted_OPT_No',\n",
        "       'Have_You_Alerted_OPT_Yes', 'School_Age_or_PreK_Pre-K',\n",
        "       'School_Age_or_PreK_School-Age']\n",
        "df.dropna(subset=nan_value_drop, inplace=True)"
      ]
    },
    {
      "cell_type": "code",
      "execution_count": 138,
      "id": "231ba544",
      "metadata": {},
      "outputs": [
        {
          "data": {
            "text/plain": [
              "Number_Of_Students_On_The_Bus          0\n",
              "Breakdown_or_Running_Late              0\n",
              "School_Year_2015-2016                  0\n",
              "School_Year_2016-2017                  0\n",
              "School_Year_2017-2018                  0\n",
              "Run_Type_General Ed AM Run             0\n",
              "Run_Type_General Ed Field Trip         0\n",
              "Run_Type_General Ed PM Run             0\n",
              "Run_Type_Pre-K/EI                      0\n",
              "Run_Type_Project Read AM Run           0\n",
              "Run_Type_Project Read Field Trip       0\n",
              "Run_Type_Project Read PM Run           0\n",
              "Run_Type_Special Ed AM Run             0\n",
              "Run_Type_Special Ed Field Trip         0\n",
              "Run_Type_Special Ed PM Run             0\n",
              "Reason_Accident                        0\n",
              "Reason_Delayed by School               0\n",
              "Reason_Flat Tire                       0\n",
              "Reason_Heavy Traffic                   0\n",
              "Reason_Late return from Field Trip     0\n",
              "Reason_Mechanical Problem              0\n",
              "Reason_Other                           0\n",
              "Reason_Problem Run                     0\n",
              "Reason_Weather Conditions              0\n",
              "Reason_Won`t Start                     0\n",
              "Boro_All Boroughs                      0\n",
              "Boro_Bronx                             0\n",
              "Boro_Brooklyn                          0\n",
              "Boro_Connecticut                       0\n",
              "Boro_Manhattan                         0\n",
              "Boro_Nassau County                     0\n",
              "Boro_New Jersey                        0\n",
              "Boro_Queens                            0\n",
              "Boro_Rockland County                   0\n",
              "Boro_Staten Island                     0\n",
              "Boro_Westchester                       0\n",
              "Has_Contractor_Notified_Schools_No     0\n",
              "Has_Contractor_Notified_Schools_Yes    0\n",
              "Has_Contractor_Notified_Parents_No     0\n",
              "Has_Contractor_Notified_Parents_Yes    0\n",
              "Have_You_Alerted_OPT_No                0\n",
              "Have_You_Alerted_OPT_Yes               0\n",
              "School_Age_or_PreK_Pre-K               0\n",
              "School_Age_or_PreK_School-Age          0\n",
              "dtype: int64"
            ]
          },
          "execution_count": 138,
          "metadata": {},
          "output_type": "execute_result"
        }
      ],
      "source": [
        "df.isna().sum()"
      ]
    },
    {
      "cell_type": "code",
      "execution_count": 139,
      "id": "bc9a4022",
      "metadata": {},
      "outputs": [
        {
          "data": {
            "text/plain": [
              "Breakdown_or_Running_Late\n",
              "1    98417\n",
              "0       11\n",
              "Name: count, dtype: int64"
            ]
          },
          "execution_count": 139,
          "metadata": {},
          "output_type": "execute_result"
        }
      ],
      "source": [
        "df['Breakdown_or_Running_Late'].value_counts()"
      ]
    },
    {
      "cell_type": "code",
      "execution_count": 140,
      "id": "04525bee",
      "metadata": {},
      "outputs": [
        {
          "data": {
            "text/plain": [
              "Breakdown_or_Running_Late\n",
              "1    98417\n",
              "0    98417\n",
              "Name: count, dtype: int64"
            ]
          },
          "execution_count": 140,
          "metadata": {},
          "output_type": "execute_result"
        }
      ],
      "source": [
        "from imblearn.over_sampling import SMOTE\n",
        "\n",
        "X = df_encoded.drop(columns=['Breakdown_or_Running_Late'])\n",
        "y = df_encoded['Breakdown_or_Running_Late']\n",
        "\n",
        "smote = SMOTE(random_state=42)\n",
        "X_resampled, y_resampled = smote.fit_resample(X, y)\n",
        "\n",
        "new_class_balance = y_resampled.value_counts()\n",
        "new_class_balance"
      ]
    },
    {
      "cell_type": "markdown",
      "id": "bc887660",
      "metadata": {
        "id": "bc887660"
      },
      "source": [
        "## Split the Dataset\n",
        "Next, split the dataset into training, validation, and testing sets."
      ]
    },
    {
      "cell_type": "code",
      "execution_count": 141,
      "id": "fa5bbfd5",
      "metadata": {
        "id": "fa5bbfd5"
      },
      "outputs": [],
      "source": [
        "X_train, X_test, y_train, y_test = train_test_split(X_resampled, y_resampled, test_size=0.2, random_state=42)"
      ]
    },
    {
      "cell_type": "markdown",
      "id": "7119b7d7",
      "metadata": {
        "id": "7119b7d7"
      },
      "source": [
        "## Building the ANN Model\n",
        "In this section, define the architecture of the ANN by specifying the number of layers, neurons, and activation functions."
      ]
    },
    {
      "cell_type": "code",
      "execution_count": 142,
      "id": "8532b3b9",
      "metadata": {
        "id": "8532b3b9"
      },
      "outputs": [
        {
          "name": "stderr",
          "output_type": "stream",
          "text": [
            "/opt/anaconda3/lib/python3.11/site-packages/keras/src/layers/core/dense.py:87: UserWarning: Do not pass an `input_shape`/`input_dim` argument to a layer. When using Sequential models, prefer using an `Input(shape)` object as the first layer in the model instead.\n",
            "  super().__init__(activity_regularizer=activity_regularizer, **kwargs)\n"
          ]
        }
      ],
      "source": [
        "model = Sequential()\n",
        "model.add(Dense(units=6, input_dim=X_train.shape[1], kernel_initializer='uniform',activation='relu'))\n",
        "model.add(Dense(units=6, activation='relu'))\n",
        "model.add(Dense(units=6, activation='relu'))\n",
        "model.add(Dense(units=1, activation='sigmoid'))"
      ]
    },
    {
      "cell_type": "markdown",
      "id": "ac5e52e1",
      "metadata": {
        "id": "ac5e52e1"
      },
      "source": [
        "## Compile the Model\n",
        "Compile the ANN model by defining the optimizer, loss function, and evaluation metrics."
      ]
    },
    {
      "cell_type": "code",
      "execution_count": 143,
      "id": "ab363be3",
      "metadata": {
        "id": "ab363be3"
      },
      "outputs": [
        {
          "data": {
            "text/html": [
              "<pre style=\"white-space:pre;overflow-x:auto;line-height:normal;font-family:Menlo,'DejaVu Sans Mono',consolas,'Courier New',monospace\"><span style=\"font-weight: bold\">Model: \"sequential\"</span>\n",
              "</pre>\n"
            ],
            "text/plain": [
              "\u001b[1mModel: \"sequential\"\u001b[0m\n"
            ]
          },
          "metadata": {},
          "output_type": "display_data"
        },
        {
          "data": {
            "text/html": [
              "<pre style=\"white-space:pre;overflow-x:auto;line-height:normal;font-family:Menlo,'DejaVu Sans Mono',consolas,'Courier New',monospace\">┏━━━━━━━━━━━━━━━━━━━━━━━━━━━━━━━━━┳━━━━━━━━━━━━━━━━━━━━━━━━┳━━━━━━━━━━━━━━━┓\n",
              "┃<span style=\"font-weight: bold\"> Layer (type)                    </span>┃<span style=\"font-weight: bold\"> Output Shape           </span>┃<span style=\"font-weight: bold\">       Param # </span>┃\n",
              "┡━━━━━━━━━━━━━━━━━━━━━━━━━━━━━━━━━╇━━━━━━━━━━━━━━━━━━━━━━━━╇━━━━━━━━━━━━━━━┩\n",
              "│ dense (<span style=\"color: #0087ff; text-decoration-color: #0087ff\">Dense</span>)                   │ (<span style=\"color: #00d7ff; text-decoration-color: #00d7ff\">None</span>, <span style=\"color: #00af00; text-decoration-color: #00af00\">6</span>)              │           <span style=\"color: #00af00; text-decoration-color: #00af00\">264</span> │\n",
              "├─────────────────────────────────┼────────────────────────┼───────────────┤\n",
              "│ dense_1 (<span style=\"color: #0087ff; text-decoration-color: #0087ff\">Dense</span>)                 │ (<span style=\"color: #00d7ff; text-decoration-color: #00d7ff\">None</span>, <span style=\"color: #00af00; text-decoration-color: #00af00\">6</span>)              │            <span style=\"color: #00af00; text-decoration-color: #00af00\">42</span> │\n",
              "├─────────────────────────────────┼────────────────────────┼───────────────┤\n",
              "│ dense_2 (<span style=\"color: #0087ff; text-decoration-color: #0087ff\">Dense</span>)                 │ (<span style=\"color: #00d7ff; text-decoration-color: #00d7ff\">None</span>, <span style=\"color: #00af00; text-decoration-color: #00af00\">6</span>)              │            <span style=\"color: #00af00; text-decoration-color: #00af00\">42</span> │\n",
              "├─────────────────────────────────┼────────────────────────┼───────────────┤\n",
              "│ dense_3 (<span style=\"color: #0087ff; text-decoration-color: #0087ff\">Dense</span>)                 │ (<span style=\"color: #00d7ff; text-decoration-color: #00d7ff\">None</span>, <span style=\"color: #00af00; text-decoration-color: #00af00\">1</span>)              │             <span style=\"color: #00af00; text-decoration-color: #00af00\">7</span> │\n",
              "└─────────────────────────────────┴────────────────────────┴───────────────┘\n",
              "</pre>\n"
            ],
            "text/plain": [
              "┏━━━━━━━━━━━━━━━━━━━━━━━━━━━━━━━━━┳━━━━━━━━━━━━━━━━━━━━━━━━┳━━━━━━━━━━━━━━━┓\n",
              "┃\u001b[1m \u001b[0m\u001b[1mLayer (type)                   \u001b[0m\u001b[1m \u001b[0m┃\u001b[1m \u001b[0m\u001b[1mOutput Shape          \u001b[0m\u001b[1m \u001b[0m┃\u001b[1m \u001b[0m\u001b[1m      Param #\u001b[0m\u001b[1m \u001b[0m┃\n",
              "┡━━━━━━━━━━━━━━━━━━━━━━━━━━━━━━━━━╇━━━━━━━━━━━━━━━━━━━━━━━━╇━━━━━━━━━━━━━━━┩\n",
              "│ dense (\u001b[38;5;33mDense\u001b[0m)                   │ (\u001b[38;5;45mNone\u001b[0m, \u001b[38;5;34m6\u001b[0m)              │           \u001b[38;5;34m264\u001b[0m │\n",
              "├─────────────────────────────────┼────────────────────────┼───────────────┤\n",
              "│ dense_1 (\u001b[38;5;33mDense\u001b[0m)                 │ (\u001b[38;5;45mNone\u001b[0m, \u001b[38;5;34m6\u001b[0m)              │            \u001b[38;5;34m42\u001b[0m │\n",
              "├─────────────────────────────────┼────────────────────────┼───────────────┤\n",
              "│ dense_2 (\u001b[38;5;33mDense\u001b[0m)                 │ (\u001b[38;5;45mNone\u001b[0m, \u001b[38;5;34m6\u001b[0m)              │            \u001b[38;5;34m42\u001b[0m │\n",
              "├─────────────────────────────────┼────────────────────────┼───────────────┤\n",
              "│ dense_3 (\u001b[38;5;33mDense\u001b[0m)                 │ (\u001b[38;5;45mNone\u001b[0m, \u001b[38;5;34m1\u001b[0m)              │             \u001b[38;5;34m7\u001b[0m │\n",
              "└─────────────────────────────────┴────────────────────────┴───────────────┘\n"
            ]
          },
          "metadata": {},
          "output_type": "display_data"
        },
        {
          "data": {
            "text/html": [
              "<pre style=\"white-space:pre;overflow-x:auto;line-height:normal;font-family:Menlo,'DejaVu Sans Mono',consolas,'Courier New',monospace\"><span style=\"font-weight: bold\"> Total params: </span><span style=\"color: #00af00; text-decoration-color: #00af00\">355</span> (1.39 KB)\n",
              "</pre>\n"
            ],
            "text/plain": [
              "\u001b[1m Total params: \u001b[0m\u001b[38;5;34m355\u001b[0m (1.39 KB)\n"
            ]
          },
          "metadata": {},
          "output_type": "display_data"
        },
        {
          "data": {
            "text/html": [
              "<pre style=\"white-space:pre;overflow-x:auto;line-height:normal;font-family:Menlo,'DejaVu Sans Mono',consolas,'Courier New',monospace\"><span style=\"font-weight: bold\"> Trainable params: </span><span style=\"color: #00af00; text-decoration-color: #00af00\">355</span> (1.39 KB)\n",
              "</pre>\n"
            ],
            "text/plain": [
              "\u001b[1m Trainable params: \u001b[0m\u001b[38;5;34m355\u001b[0m (1.39 KB)\n"
            ]
          },
          "metadata": {},
          "output_type": "display_data"
        },
        {
          "data": {
            "text/html": [
              "<pre style=\"white-space:pre;overflow-x:auto;line-height:normal;font-family:Menlo,'DejaVu Sans Mono',consolas,'Courier New',monospace\"><span style=\"font-weight: bold\"> Non-trainable params: </span><span style=\"color: #00af00; text-decoration-color: #00af00\">0</span> (0.00 B)\n",
              "</pre>\n"
            ],
            "text/plain": [
              "\u001b[1m Non-trainable params: \u001b[0m\u001b[38;5;34m0\u001b[0m (0.00 B)\n"
            ]
          },
          "metadata": {},
          "output_type": "display_data"
        }
      ],
      "source": [
        "model.compile(optimizer='adam',\n",
        "              loss='binary_crossentropy',\n",
        "              metrics=['accuracy', Precision(), Recall()])\n",
        "\n",
        "model.summary()"
      ]
    },
    {
      "cell_type": "markdown",
      "id": "e9a72223",
      "metadata": {
        "id": "e9a72223"
      },
      "source": [
        "## Training the Model\n",
        "Train the ANN model using the training data."
      ]
    },
    {
      "cell_type": "code",
      "execution_count": 144,
      "id": "e43fedab",
      "metadata": {
        "id": "e43fedab"
      },
      "outputs": [
        {
          "name": "stdout",
          "output_type": "stream",
          "text": [
            "Epoch 1/50\n",
            "\u001b[1m12598/12598\u001b[0m \u001b[32m━━━━━━━━━━━━━━━━━━━━\u001b[0m\u001b[37m\u001b[0m \u001b[1m6s\u001b[0m 399us/step - accuracy: 0.9225 - loss: 0.2332 - precision: 0.9387 - recall: 0.9143 - val_accuracy: 0.9782 - val_loss: 0.0624 - val_precision: 0.9905 - val_recall: 0.9658\n",
            "Epoch 2/50\n",
            "\u001b[1m12598/12598\u001b[0m \u001b[32m━━━━━━━━━━━━━━━━━━━━\u001b[0m\u001b[37m\u001b[0m \u001b[1m5s\u001b[0m 390us/step - accuracy: 0.9809 - loss: 0.0602 - precision: 0.9935 - recall: 0.9683 - val_accuracy: 0.9840 - val_loss: 0.0525 - val_precision: 0.9917 - val_recall: 0.9763\n",
            "Epoch 3/50\n",
            "\u001b[1m12598/12598\u001b[0m \u001b[32m━━━━━━━━━━━━━━━━━━━━\u001b[0m\u001b[37m\u001b[0m \u001b[1m5s\u001b[0m 395us/step - accuracy: 0.9830 - loss: 0.0519 - precision: 0.9915 - recall: 0.9742 - val_accuracy: 0.9878 - val_loss: 0.0455 - val_precision: 0.9927 - val_recall: 0.9830\n",
            "Epoch 4/50\n",
            "\u001b[1m12598/12598\u001b[0m \u001b[32m━━━━━━━━━━━━━━━━━━━━\u001b[0m\u001b[37m\u001b[0m \u001b[1m5s\u001b[0m 387us/step - accuracy: 0.9847 - loss: 0.0477 - precision: 0.9919 - recall: 0.9774 - val_accuracy: 0.9790 - val_loss: 0.0582 - val_precision: 0.9810 - val_recall: 0.9771\n",
            "Epoch 5/50\n",
            "\u001b[1m12598/12598\u001b[0m \u001b[32m━━━━━━━━━━━━━━━━━━━━\u001b[0m\u001b[37m\u001b[0m \u001b[1m5s\u001b[0m 396us/step - accuracy: 0.9850 - loss: 0.0464 - precision: 0.9922 - recall: 0.9778 - val_accuracy: 0.9901 - val_loss: 0.0394 - val_precision: 0.9969 - val_recall: 0.9833\n",
            "Epoch 6/50\n",
            "\u001b[1m12598/12598\u001b[0m \u001b[32m━━━━━━━━━━━━━━━━━━━━\u001b[0m\u001b[37m\u001b[0m \u001b[1m5s\u001b[0m 379us/step - accuracy: 0.9854 - loss: 0.0456 - precision: 0.9920 - recall: 0.9787 - val_accuracy: 0.9829 - val_loss: 0.0497 - val_precision: 0.9805 - val_recall: 0.9856\n",
            "Epoch 7/50\n",
            "\u001b[1m12598/12598\u001b[0m \u001b[32m━━━━━━━━━━━━━━━━━━━━\u001b[0m\u001b[37m\u001b[0m \u001b[1m5s\u001b[0m 402us/step - accuracy: 0.9859 - loss: 0.0450 - precision: 0.9926 - recall: 0.9791 - val_accuracy: 0.9884 - val_loss: 0.0384 - val_precision: 0.9908 - val_recall: 0.9861\n",
            "Epoch 8/50\n",
            "\u001b[1m12598/12598\u001b[0m \u001b[32m━━━━━━━━━━━━━━━━━━━━\u001b[0m\u001b[37m\u001b[0m \u001b[1m5s\u001b[0m 378us/step - accuracy: 0.9871 - loss: 0.0417 - precision: 0.9931 - recall: 0.9810 - val_accuracy: 0.9872 - val_loss: 0.0477 - val_precision: 0.9823 - val_recall: 0.9925\n",
            "Epoch 9/50\n",
            "\u001b[1m12598/12598\u001b[0m \u001b[32m━━━━━━━━━━━━━━━━━━━━\u001b[0m\u001b[37m\u001b[0m \u001b[1m5s\u001b[0m 379us/step - accuracy: 0.9872 - loss: 0.0400 - precision: 0.9926 - recall: 0.9817 - val_accuracy: 0.9903 - val_loss: 0.0374 - val_precision: 0.9944 - val_recall: 0.9862\n",
            "Epoch 10/50\n",
            "\u001b[1m12598/12598\u001b[0m \u001b[32m━━━━━━━━━━━━━━━━━━━━\u001b[0m\u001b[37m\u001b[0m \u001b[1m5s\u001b[0m 398us/step - accuracy: 0.9875 - loss: 0.0384 - precision: 0.9929 - recall: 0.9820 - val_accuracy: 0.9907 - val_loss: 0.0371 - val_precision: 0.9959 - val_recall: 0.9856\n",
            "Epoch 11/50\n",
            "\u001b[1m12598/12598\u001b[0m \u001b[32m━━━━━━━━━━━━━━━━━━━━\u001b[0m\u001b[37m\u001b[0m \u001b[1m5s\u001b[0m 380us/step - accuracy: 0.9875 - loss: 0.0375 - precision: 0.9934 - recall: 0.9816 - val_accuracy: 0.9918 - val_loss: 0.0326 - val_precision: 0.9972 - val_recall: 0.9864\n",
            "Epoch 12/50\n",
            "\u001b[1m12598/12598\u001b[0m \u001b[32m━━━━━━━━━━━━━━━━━━━━\u001b[0m\u001b[37m\u001b[0m \u001b[1m5s\u001b[0m 398us/step - accuracy: 0.9883 - loss: 0.0352 - precision: 0.9932 - recall: 0.9832 - val_accuracy: 0.9902 - val_loss: 0.0339 - val_precision: 0.9889 - val_recall: 0.9915\n",
            "Epoch 13/50\n",
            "\u001b[1m12598/12598\u001b[0m \u001b[32m━━━━━━━━━━━━━━━━━━━━\u001b[0m\u001b[37m\u001b[0m \u001b[1m5s\u001b[0m 389us/step - accuracy: 0.9875 - loss: 0.0349 - precision: 0.9929 - recall: 0.9820 - val_accuracy: 0.9876 - val_loss: 0.0333 - val_precision: 0.9970 - val_recall: 0.9783\n",
            "Epoch 14/50\n",
            "\u001b[1m12598/12598\u001b[0m \u001b[32m━━━━━━━━━━━━━━━━━━━━\u001b[0m\u001b[37m\u001b[0m \u001b[1m5s\u001b[0m 394us/step - accuracy: 0.9879 - loss: 0.0346 - precision: 0.9931 - recall: 0.9824 - val_accuracy: 0.9877 - val_loss: 0.0340 - val_precision: 0.9873 - val_recall: 0.9882\n",
            "Epoch 15/50\n",
            "\u001b[1m12598/12598\u001b[0m \u001b[32m━━━━━━━━━━━━━━━━━━━━\u001b[0m\u001b[37m\u001b[0m \u001b[1m5s\u001b[0m 383us/step - accuracy: 0.9881 - loss: 0.0335 - precision: 0.9927 - recall: 0.9833 - val_accuracy: 0.9896 - val_loss: 0.0314 - val_precision: 0.9958 - val_recall: 0.9833\n",
            "Epoch 16/50\n",
            "\u001b[1m12598/12598\u001b[0m \u001b[32m━━━━━━━━━━━━━━━━━━━━\u001b[0m\u001b[37m\u001b[0m \u001b[1m5s\u001b[0m 391us/step - accuracy: 0.9884 - loss: 0.0319 - precision: 0.9933 - recall: 0.9836 - val_accuracy: 0.9877 - val_loss: 0.0292 - val_precision: 0.9971 - val_recall: 0.9784\n",
            "Epoch 17/50\n",
            "\u001b[1m12598/12598\u001b[0m \u001b[32m━━━━━━━━━━━━━━━━━━━━\u001b[0m\u001b[37m\u001b[0m \u001b[1m5s\u001b[0m 370us/step - accuracy: 0.9893 - loss: 0.0305 - precision: 0.9937 - recall: 0.9849 - val_accuracy: 0.9883 - val_loss: 0.0296 - val_precision: 0.9978 - val_recall: 0.9788\n",
            "Epoch 18/50\n",
            "\u001b[1m12598/12598\u001b[0m \u001b[32m━━━━━━━━━━━━━━━━━━━━\u001b[0m\u001b[37m\u001b[0m \u001b[1m5s\u001b[0m 384us/step - accuracy: 0.9888 - loss: 0.0312 - precision: 0.9934 - recall: 0.9841 - val_accuracy: 0.9919 - val_loss: 0.0274 - val_precision: 0.9973 - val_recall: 0.9864\n",
            "Epoch 19/50\n",
            "\u001b[1m12598/12598\u001b[0m \u001b[32m━━━━━━━━━━━━━━━━━━━━\u001b[0m\u001b[37m\u001b[0m \u001b[1m5s\u001b[0m 386us/step - accuracy: 0.9898 - loss: 0.0291 - precision: 0.9938 - recall: 0.9857 - val_accuracy: 0.9888 - val_loss: 0.0388 - val_precision: 0.9907 - val_recall: 0.9869\n",
            "Epoch 20/50\n",
            "\u001b[1m12598/12598\u001b[0m \u001b[32m━━━━━━━━━━━━━━━━━━━━\u001b[0m\u001b[37m\u001b[0m \u001b[1m5s\u001b[0m 387us/step - accuracy: 0.9898 - loss: 0.0298 - precision: 0.9940 - recall: 0.9856 - val_accuracy: 0.9877 - val_loss: 0.0299 - val_precision: 0.9968 - val_recall: 0.9786\n",
            "Epoch 21/50\n",
            "\u001b[1m12598/12598\u001b[0m \u001b[32m━━━━━━━━━━━━━━━━━━━━\u001b[0m\u001b[37m\u001b[0m \u001b[1m5s\u001b[0m 401us/step - accuracy: 0.9896 - loss: 0.0288 - precision: 0.9933 - recall: 0.9858 - val_accuracy: 0.9883 - val_loss: 0.0264 - val_precision: 0.9981 - val_recall: 0.9785\n",
            "Epoch 22/50\n",
            "\u001b[1m12598/12598\u001b[0m \u001b[32m━━━━━━━━━━━━━━━━━━━━\u001b[0m\u001b[37m\u001b[0m \u001b[1m5s\u001b[0m 401us/step - accuracy: 0.9897 - loss: 0.0293 - precision: 0.9937 - recall: 0.9857 - val_accuracy: 0.9883 - val_loss: 0.0296 - val_precision: 0.9979 - val_recall: 0.9787\n",
            "Epoch 23/50\n",
            "\u001b[1m12598/12598\u001b[0m \u001b[32m━━━━━━━━━━━━━━━━━━━━\u001b[0m\u001b[37m\u001b[0m \u001b[1m5s\u001b[0m 390us/step - accuracy: 0.9899 - loss: 0.0278 - precision: 0.9939 - recall: 0.9860 - val_accuracy: 0.9876 - val_loss: 0.0324 - val_precision: 0.9963 - val_recall: 0.9789\n",
            "Epoch 24/50\n",
            "\u001b[1m12598/12598\u001b[0m \u001b[32m━━━━━━━━━━━━━━━━━━━━\u001b[0m\u001b[37m\u001b[0m \u001b[1m5s\u001b[0m 398us/step - accuracy: 0.9896 - loss: 0.0288 - precision: 0.9939 - recall: 0.9853 - val_accuracy: 0.9920 - val_loss: 0.0262 - val_precision: 0.9924 - val_recall: 0.9916\n",
            "Epoch 25/50\n",
            "\u001b[1m12598/12598\u001b[0m \u001b[32m━━━━━━━━━━━━━━━━━━━━\u001b[0m\u001b[37m\u001b[0m \u001b[1m5s\u001b[0m 397us/step - accuracy: 0.9902 - loss: 0.0275 - precision: 0.9936 - recall: 0.9867 - val_accuracy: 0.9886 - val_loss: 0.0253 - val_precision: 0.9983 - val_recall: 0.9788\n",
            "Epoch 26/50\n",
            "\u001b[1m12598/12598\u001b[0m \u001b[32m━━━━━━━━━━━━━━━━━━━━\u001b[0m\u001b[37m\u001b[0m \u001b[1m5s\u001b[0m 391us/step - accuracy: 0.9901 - loss: 0.0275 - precision: 0.9938 - recall: 0.9864 - val_accuracy: 0.9895 - val_loss: 0.0292 - val_precision: 0.9927 - val_recall: 0.9863\n",
            "Epoch 27/50\n",
            "\u001b[1m12598/12598\u001b[0m \u001b[32m━━━━━━━━━━━━━━━━━━━━\u001b[0m\u001b[37m\u001b[0m \u001b[1m5s\u001b[0m 398us/step - accuracy: 0.9901 - loss: 0.0279 - precision: 0.9937 - recall: 0.9865 - val_accuracy: 0.9862 - val_loss: 0.0394 - val_precision: 0.9799 - val_recall: 0.9928\n",
            "Epoch 28/50\n",
            "\u001b[1m12598/12598\u001b[0m \u001b[32m━━━━━━━━━━━━━━━━━━━━\u001b[0m\u001b[37m\u001b[0m \u001b[1m5s\u001b[0m 386us/step - accuracy: 0.9900 - loss: 0.0273 - precision: 0.9934 - recall: 0.9866 - val_accuracy: 0.9899 - val_loss: 0.0307 - val_precision: 0.9953 - val_recall: 0.9845\n",
            "Epoch 29/50\n",
            "\u001b[1m12598/12598\u001b[0m \u001b[32m━━━━━━━━━━━━━━━━━━━━\u001b[0m\u001b[37m\u001b[0m \u001b[1m5s\u001b[0m 400us/step - accuracy: 0.9903 - loss: 0.0270 - precision: 0.9942 - recall: 0.9863 - val_accuracy: 0.9906 - val_loss: 0.0273 - val_precision: 0.9965 - val_recall: 0.9848\n",
            "Epoch 30/50\n",
            "\u001b[1m12598/12598\u001b[0m \u001b[32m━━━━━━━━━━━━━━━━━━━━\u001b[0m\u001b[37m\u001b[0m \u001b[1m5s\u001b[0m 389us/step - accuracy: 0.9899 - loss: 0.0277 - precision: 0.9932 - recall: 0.9865 - val_accuracy: 0.9890 - val_loss: 0.0268 - val_precision: 0.9992 - val_recall: 0.9788\n",
            "Epoch 31/50\n",
            "\u001b[1m12598/12598\u001b[0m \u001b[32m━━━━━━━━━━━━━━━━━━━━\u001b[0m\u001b[37m\u001b[0m \u001b[1m5s\u001b[0m 396us/step - accuracy: 0.9894 - loss: 0.0290 - precision: 0.9928 - recall: 0.9860 - val_accuracy: 0.9919 - val_loss: 0.0237 - val_precision: 0.9925 - val_recall: 0.9914\n",
            "Epoch 32/50\n",
            "\u001b[1m12598/12598\u001b[0m \u001b[32m━━━━━━━━━━━━━━━━━━━━\u001b[0m\u001b[37m\u001b[0m \u001b[1m5s\u001b[0m 392us/step - accuracy: 0.9900 - loss: 0.0275 - precision: 0.9935 - recall: 0.9865 - val_accuracy: 0.9901 - val_loss: 0.0287 - val_precision: 0.9966 - val_recall: 0.9836\n",
            "Epoch 33/50\n",
            "\u001b[1m12598/12598\u001b[0m \u001b[32m━━━━━━━━━━━━━━━━━━━━\u001b[0m\u001b[37m\u001b[0m \u001b[1m5s\u001b[0m 405us/step - accuracy: 0.9898 - loss: 0.0286 - precision: 0.9937 - recall: 0.9859 - val_accuracy: 0.9922 - val_loss: 0.0249 - val_precision: 0.9930 - val_recall: 0.9914\n",
            "Epoch 34/50\n",
            "\u001b[1m12598/12598\u001b[0m \u001b[32m━━━━━━━━━━━━━━━━━━━━\u001b[0m\u001b[37m\u001b[0m \u001b[1m5s\u001b[0m 422us/step - accuracy: 0.9905 - loss: 0.0270 - precision: 0.9935 - recall: 0.9875 - val_accuracy: 0.9931 - val_loss: 0.0243 - val_precision: 0.9947 - val_recall: 0.9915\n",
            "Epoch 35/50\n",
            "\u001b[1m12598/12598\u001b[0m \u001b[32m━━━━━━━━━━━━━━━━━━━━\u001b[0m\u001b[37m\u001b[0m \u001b[1m5s\u001b[0m 405us/step - accuracy: 0.9902 - loss: 0.0271 - precision: 0.9936 - recall: 0.9869 - val_accuracy: 0.9879 - val_loss: 0.0278 - val_precision: 0.9972 - val_recall: 0.9786\n",
            "Epoch 36/50\n",
            "\u001b[1m12598/12598\u001b[0m \u001b[32m━━━━━━━━━━━━━━━━━━━━\u001b[0m\u001b[37m\u001b[0m \u001b[1m5s\u001b[0m 415us/step - accuracy: 0.9903 - loss: 0.0282 - precision: 0.9940 - recall: 0.9865 - val_accuracy: 0.9838 - val_loss: 0.0527 - val_precision: 0.9895 - val_recall: 0.9781\n",
            "Epoch 37/50\n",
            "\u001b[1m12598/12598\u001b[0m \u001b[32m━━━━━━━━━━━━━━━━━━━━\u001b[0m\u001b[37m\u001b[0m \u001b[1m5s\u001b[0m 425us/step - accuracy: 0.9899 - loss: 0.0281 - precision: 0.9933 - recall: 0.9865 - val_accuracy: 0.9895 - val_loss: 0.0290 - val_precision: 0.9945 - val_recall: 0.9845\n",
            "Epoch 38/50\n",
            "\u001b[1m12598/12598\u001b[0m \u001b[32m━━━━━━━━━━━━━━━━━━━━\u001b[0m\u001b[37m\u001b[0m \u001b[1m5s\u001b[0m 402us/step - accuracy: 0.9901 - loss: 0.0279 - precision: 0.9938 - recall: 0.9864 - val_accuracy: 0.9890 - val_loss: 0.0306 - val_precision: 0.9917 - val_recall: 0.9864\n",
            "Epoch 39/50\n",
            "\u001b[1m12598/12598\u001b[0m \u001b[32m━━━━━━━━━━━━━━━━━━━━\u001b[0m\u001b[37m\u001b[0m \u001b[1m5s\u001b[0m 404us/step - accuracy: 0.9903 - loss: 0.0270 - precision: 0.9933 - recall: 0.9872 - val_accuracy: 0.9917 - val_loss: 0.0251 - val_precision: 0.9910 - val_recall: 0.9925\n",
            "Epoch 40/50\n",
            "\u001b[1m12598/12598\u001b[0m \u001b[32m━━━━━━━━━━━━━━━━━━━━\u001b[0m\u001b[37m\u001b[0m \u001b[1m5s\u001b[0m 389us/step - accuracy: 0.9898 - loss: 0.0285 - precision: 0.9933 - recall: 0.9864 - val_accuracy: 0.9916 - val_loss: 0.0252 - val_precision: 0.9970 - val_recall: 0.9863\n",
            "Epoch 41/50\n",
            "\u001b[1m12598/12598\u001b[0m \u001b[32m━━━━━━━━━━━━━━━━━━━━\u001b[0m\u001b[37m\u001b[0m \u001b[1m5s\u001b[0m 412us/step - accuracy: 0.9902 - loss: 0.0268 - precision: 0.9935 - recall: 0.9869 - val_accuracy: 0.9925 - val_loss: 0.0326 - val_precision: 0.9989 - val_recall: 0.9861\n",
            "Epoch 42/50\n",
            "\u001b[1m12598/12598\u001b[0m \u001b[32m━━━━━━━━━━━━━━━━━━━━\u001b[0m\u001b[37m\u001b[0m \u001b[1m5s\u001b[0m 409us/step - accuracy: 0.9905 - loss: 0.0283 - precision: 0.9941 - recall: 0.9870 - val_accuracy: 0.9876 - val_loss: 0.0347 - val_precision: 0.9906 - val_recall: 0.9846\n",
            "Epoch 43/50\n",
            "\u001b[1m12598/12598\u001b[0m \u001b[32m━━━━━━━━━━━━━━━━━━━━\u001b[0m\u001b[37m\u001b[0m \u001b[1m5s\u001b[0m 414us/step - accuracy: 0.9900 - loss: 0.0289 - precision: 0.9937 - recall: 0.9862 - val_accuracy: 0.9902 - val_loss: 0.0246 - val_precision: 0.9969 - val_recall: 0.9835\n",
            "Epoch 44/50\n",
            "\u001b[1m12598/12598\u001b[0m \u001b[32m━━━━━━━━━━━━━━━━━━━━\u001b[0m\u001b[37m\u001b[0m \u001b[1m5s\u001b[0m 389us/step - accuracy: 0.9906 - loss: 0.0274 - precision: 0.9936 - recall: 0.9876 - val_accuracy: 0.9924 - val_loss: 0.0233 - val_precision: 0.9935 - val_recall: 0.9913\n",
            "Epoch 45/50\n",
            "\u001b[1m12598/12598\u001b[0m \u001b[32m━━━━━━━━━━━━━━━━━━━━\u001b[0m\u001b[37m\u001b[0m \u001b[1m5s\u001b[0m 401us/step - accuracy: 0.9902 - loss: 0.0273 - precision: 0.9936 - recall: 0.9867 - val_accuracy: 0.9880 - val_loss: 0.0275 - val_precision: 0.9976 - val_recall: 0.9785\n",
            "Epoch 46/50\n",
            "\u001b[1m12598/12598\u001b[0m \u001b[32m━━━━━━━━━━━━━━━━━━━━\u001b[0m\u001b[37m\u001b[0m \u001b[1m5s\u001b[0m 392us/step - accuracy: 0.9909 - loss: 0.0262 - precision: 0.9938 - recall: 0.9880 - val_accuracy: 0.9945 - val_loss: 0.0237 - val_precision: 0.9954 - val_recall: 0.9937\n",
            "Epoch 47/50\n",
            "\u001b[1m12598/12598\u001b[0m \u001b[32m━━━━━━━━━━━━━━━━━━━━\u001b[0m\u001b[37m\u001b[0m \u001b[1m5s\u001b[0m 392us/step - accuracy: 0.9908 - loss: 0.0268 - precision: 0.9941 - recall: 0.9875 - val_accuracy: 0.9930 - val_loss: 0.0245 - val_precision: 0.9920 - val_recall: 0.9940\n",
            "Epoch 48/50\n",
            "\u001b[1m12598/12598\u001b[0m \u001b[32m━━━━━━━━━━━━━━━━━━━━\u001b[0m\u001b[37m\u001b[0m \u001b[1m5s\u001b[0m 387us/step - accuracy: 0.9907 - loss: 0.0270 - precision: 0.9936 - recall: 0.9879 - val_accuracy: 0.9901 - val_loss: 0.0257 - val_precision: 0.9956 - val_recall: 0.9847\n",
            "Epoch 49/50\n",
            "\u001b[1m12598/12598\u001b[0m \u001b[32m━━━━━━━━━━━━━━━━━━━━\u001b[0m\u001b[37m\u001b[0m \u001b[1m5s\u001b[0m 389us/step - accuracy: 0.9909 - loss: 0.0265 - precision: 0.9937 - recall: 0.9880 - val_accuracy: 0.9879 - val_loss: 0.0300 - val_precision: 0.9910 - val_recall: 0.9847\n",
            "Epoch 50/50\n",
            "\u001b[1m12598/12598\u001b[0m \u001b[32m━━━━━━━━━━━━━━━━━━━━\u001b[0m\u001b[37m\u001b[0m \u001b[1m5s\u001b[0m 408us/step - accuracy: 0.9910 - loss: 0.0261 - precision: 0.9935 - recall: 0.9884 - val_accuracy: 0.9845 - val_loss: 0.0305 - val_precision: 0.9916 - val_recall: 0.9774\n"
          ]
        }
      ],
      "source": [
        "history = model.fit(X_train, y_train, batch_size=10, epochs=50, validation_split=0.2)"
      ]
    },
    {
      "cell_type": "markdown",
      "id": "20ce9661",
      "metadata": {
        "id": "20ce9661"
      },
      "source": [
        "## Evaluate the Model\n",
        "Evaluate the performance of the model on the test set."
      ]
    },
    {
      "cell_type": "code",
      "execution_count": 145,
      "id": "73167afc",
      "metadata": {
        "id": "73167afc"
      },
      "outputs": [
        {
          "name": "stdout",
          "output_type": "stream",
          "text": [
            "\u001b[1m1231/1231\u001b[0m \u001b[32m━━━━━━━━━━━━━━━━━━━━\u001b[0m\u001b[37m\u001b[0m \u001b[1m0s\u001b[0m 257us/step - accuracy: 0.9852 - loss: 0.0318 - precision: 0.9921 - recall: 0.9779\n"
          ]
        },
        {
          "data": {
            "text/plain": [
              "[0.03014235384762287,\n",
              " 0.9860035181045532,\n",
              " 0.993320882320404,\n",
              " 0.9784770607948303]"
            ]
          },
          "execution_count": 145,
          "metadata": {},
          "output_type": "execute_result"
        }
      ],
      "source": [
        "model.evaluate(X_test, y_test)"
      ]
    },
    {
      "cell_type": "markdown",
      "id": "08e9bc87",
      "metadata": {
        "id": "08e9bc87"
      },
      "source": [
        "## Make Predictions\n",
        "Use the trained model to make predictions on new or unseen data."
      ]
    },
    {
      "cell_type": "code",
      "execution_count": 146,
      "id": "940fa394",
      "metadata": {
        "id": "940fa394"
      },
      "outputs": [
        {
          "name": "stdout",
          "output_type": "stream",
          "text": [
            "\u001b[1m1231/1231\u001b[0m \u001b[32m━━━━━━━━━━━━━━━━━━━━\u001b[0m\u001b[37m\u001b[0m \u001b[1m0s\u001b[0m 226us/step\n"
          ]
        },
        {
          "data": {
            "text/plain": [
              "array([[0.03829711],\n",
              "       [1.        ],\n",
              "       [0.00580744],\n",
              "       ...,\n",
              "       [1.        ],\n",
              "       [0.39645705],\n",
              "       [1.        ]], dtype=float32)"
            ]
          },
          "execution_count": 146,
          "metadata": {},
          "output_type": "execute_result"
        }
      ],
      "source": [
        "model.predict(X_test)"
      ]
    },
    {
      "cell_type": "markdown",
      "id": "94942463",
      "metadata": {
        "id": "94942463"
      },
      "source": [
        "## Model Performance Visualization\n",
        "Visualize the performance metrics such as accuracy and loss over the epochs."
      ]
    },
    {
      "cell_type": "code",
      "execution_count": 147,
      "id": "b1955952",
      "metadata": {
        "id": "b1955952"
      },
      "outputs": [
        {
          "data": {
            "image/png": "[encoded data removed]",
            "text/plain": [
              "<Figure size 640x480 with 1 Axes>"
            ]
          },
          "metadata": {},
          "output_type": "display_data"
        },
        {
          "data": {
            "image/png": "[encoded data removed]",
            "text/plain": [
              "<Figure size 640x480 with 1 Axes>"
            ]
          },
          "metadata": {},
          "output_type": "display_data"
        }
      ],
      "source": [
        "import matplotlib.pyplot as plt\n",
        "\n",
        "plt.plot(history.history['loss'])\n",
        "plt.plot(history.history['val_loss'])\n",
        "plt.title('Model loss')\n",
        "plt.ylabel('Loss')\n",
        "plt.xlabel('Epoch')\n",
        "plt.legend(['Train', 'Validation'], loc='upper right')\n",
        "plt.show()\n",
        "\n",
        "plt.plot(history.history['accuracy'])\n",
        "plt.plot(history.history['val_accuracy'])\n",
        "plt.title('Model accuracy')\n",
        "plt.ylabel('Accuracy')\n",
        "plt.xlabel('Epoch')\n",
        "plt.legend(['Train', 'Validation'], loc='lower right')\n",
        "plt.show()"
      ]
    },
    {
      "cell_type": "code",
      "execution_count": 150,
      "id": "6c34d5ef",
      "metadata": {},
      "outputs": [
        {
          "data": {
            "image/png": "[encoded data removed]",
            "text/plain": [
              "<Figure size 640x480 with 1 Axes>"
            ]
          },
          "metadata": {},
          "output_type": "display_data"
        },
        {
          "data": {
            "image/png": "[encoded data removed]",
            "text/plain": [
              "<Figure size 640x480 with 1 Axes>"
            ]
          },
          "metadata": {},
          "output_type": "display_data"
        }
      ],
      "source": [
        "plt.plot(history.history['precision'])\n",
        "plt.plot(history.history['val_precision'])\n",
        "plt.title('Model precision')\n",
        "plt.ylabel('Precision')\n",
        "plt.xlabel('Epoch')\n",
        "plt.legend(['Train', 'Validation'], loc='upper right')\n",
        "plt.show()\n",
        "\n",
        "\n",
        "plt.plot(history.history['recall'])\n",
        "plt.plot(history.history['val_precision'])\n",
        "plt.title('Model precision')\n",
        "plt.ylabel('Precision')\n",
        "plt.xlabel('Epoch')\n",
        "plt.legend(['Train', 'Validation'], loc='upper right')\n",
        "plt.show()"
      ]
    },
    {
      "cell_type": "markdown",
      "id": "1d32965f",
      "metadata": {
        "id": "1d32965f"
      },
      "source": [
        "## Save the Model\n",
        "Save the trained model for submission."
      ]
    },
    {
      "cell_type": "code",
      "execution_count": 149,
      "id": "a4e1f00e",
      "metadata": {
        "id": "a4e1f00e"
      },
      "outputs": [
        {
          "name": "stderr",
          "output_type": "stream",
          "text": [
            "WARNING:absl:You are saving your model as an HDF5 file via `model.save()` or `keras.saving.save_model(model)`. This file format is considered legacy. We recommend using instead the native Keras format, e.g. `model.save('my_model.keras')` or `keras.saving.save_model(model, 'my_model.keras')`. \n"
          ]
        }
      ],
      "source": [
        "model.save('Abd_ANN_model.h5')\n",
        "model.save('Abd_ANN_model.keras')"
      ]
    },
    {
      "cell_type": "markdown",
      "id": "9ebe9b8d",
      "metadata": {
        "id": "9ebe9b8d"
      },
      "source": [
        "## Project Questions:\n",
        "\n",
        "1. **Data Preprocessing**: Explain why you chose your specific data preprocessing techniques (e.g., normalization, encoding). How did these techniques help prepare the data for training the model?\n",
        "2. **Model Architecture**: Describe the reasoning behind your model’s architecture (e.g., the number of layers, type of layers, number of neurons, and activation functions). Why did you believe this architecture was appropriate for the problem at hand?\n",
        "3. **Training Process**: Discuss why you chose your batch size, number of epochs, and optimizer. How did these choices affect the training process? Did you experiment with different values, and what were the outcomes?\n",
        "4. **Loss Function and Metrics**: Why did you choose the specific loss function and evaluation metrics? How do they align with the objective of the task (e.g., regression vs classification)?\n",
        "5. **Regularization Techniques**: If you used regularization techniques such as dropout or weight decay, explain why you implemented them and how they influenced the model's performance.\n",
        "6. **Model Evaluation**: Justify your approach to evaluating the model. Why did you choose the specific performance metrics, and how do they reflect the model's success in solving the task?\n",
        "7. **Model Tuning (If Done)**: Describe any tuning you performed (e.g., hyperparameter tuning) and why you felt it was necessary. How did these adjustments improve model performance?\n",
        "8. **Overfitting and Underfitting**: Analyze whether the model encountered any overfitting or underfitting during training. What strategies could you implement to mitigate these issues?"
      ]
    },
    {
      "cell_type": "markdown",
      "id": "5f524a61",
      "metadata": {
        "id": "5f524a61"
      },
      "source": [
        "### Answer Here:"
      ]
    },
    {
      "cell_type": "markdown",
      "id": "1e1826a5",
      "metadata": {},
      "source": [
        "1- i usually try to find which columns effect the Target , in this case if we want to see if its running late or break down , dates or when its happened doesnt matter for example , bus number or ID doesnt effect it as well , cleaning the data , encoding , balancing the data took the most time of this practice.\n",
        "\n",
        "2- 4 denses first input , 2 hidden lyers , and 1 output with sigmoid function , result will be in bainary 0,1 as we see in the compile.\n",
        "\n",
        "3-batch size and epoch usually i choose them with this (Tottal Feature / dense size)\n",
        "\n",
        "4- test was 20% from the data and validation was 20% from the training data , we classified the data if its running late class or breakdown class"
      ]
    }
  ],
  "metadata": {
    "colab": {
      "provenance": []
    },
    "kernelspec": {
      "display_name": "Python 3",
      "name": "python3"
    },
    "language_info": {
      "codemirror_mode": {
        "name": "ipython",
        "version": 3
      },
      "file_extension": ".py",
      "mimetype": "text/x-python",
      "name": "python",
      "nbconvert_exporter": "python",
      "pygments_lexer": "ipython3",
      "version": "3.11.7"
    }
  },
  "nbformat": 4,
  "nbformat_minor": 5
}
